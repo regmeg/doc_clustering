{
 "cells": [
  {
   "cell_type": "code",
   "execution_count": 48,
   "metadata": {
    "collapsed": false,
    "deletable": true,
    "editable": true
   },
   "outputs": [],
   "source": [
    "%matplotlib inline"
   ]
  },
  {
   "cell_type": "markdown",
   "metadata": {
    "deletable": true,
    "editable": true
   },
   "source": [
    "\n",
    "# Clustering text documents using k-means\n",
    "\n",
    "\n",
    "This is an example showing how the scikit-learn can be used to cluster\n",
    "documents by topics using a bag-of-words approach. This example uses\n",
    "a scipy.sparse matrix to store the features instead of standard numpy arrays.\n",
    "\n",
    "Two feature extraction methods can be used in this example:\n",
    "\n",
    "  - TfidfVectorizer uses a in-memory vocabulary (a python dict) to map the most\n",
    "    frequent words to features indices and hence compute a word occurrence\n",
    "    frequency (sparse) matrix. The word frequencies are then reweighted using\n",
    "    the Inverse Document Frequency (IDF) vector collected feature-wise over\n",
    "    the corpus.\n",
    "\n",
    "  - HashingVectorizer hashes word occurrences to a fixed dimensional space,\n",
    "    possibly with collisions. The word count vectors are then normalized to\n",
    "    each have l2-norm equal to one (projected to the euclidean unit-ball) which\n",
    "    seems to be important for k-means to work in high dimensional space.\n",
    "\n",
    "    HashingVectorizer does not provide IDF weighting as this is a stateless\n",
    "    model (the fit method does nothing). When IDF weighting is needed it can\n",
    "    be added by pipelining its output to a TfidfTransformer instance.\n",
    "\n",
    "Two algorithms are demoed: ordinary k-means and its more scalable cousin\n",
    "minibatch k-means.\n",
    "\n",
    "Additionally, latent semantic analysis can also be used to reduce dimensionality\n",
    "and discover latent patterns in the data. \n",
    "\n",
    "It can be noted that k-means (and minibatch k-means) are very sensitive to\n",
    "feature scaling and that in this case the IDF weighting helps improve the\n",
    "quality of the clustering by quite a lot as measured against the \"ground truth\"\n",
    "provided by the class label assignments of the 20 newsgroups dataset.\n",
    "\n",
    "This improvement is not visible in the Silhouette Coefficient which is small\n",
    "for both as this measure seem to suffer from the phenomenon called\n",
    "\"Concentration of Measure\" or \"Curse of Dimensionality\" for high dimensional\n",
    "datasets such as text data. Other measures such as V-measure and Adjusted Rand\n",
    "Index are information theoretic based evaluation scores: as they are only based\n",
    "on cluster assignments rather than distances, hence not affected by the curse\n",
    "of dimensionality.\n",
    "\n",
    "Note: as k-means is optimizing a non-convex objective function, it will likely\n",
    "end up in a local optimum. Several runs with independent random init might be\n",
    "necessary to get a good convergence.\n",
    "\n"
   ]
  },
  {
   "cell_type": "code",
   "execution_count": 119,
   "metadata": {
    "collapsed": false,
    "deletable": true,
    "editable": true
   },
   "outputs": [],
   "source": [
    "# Author: Peter Prettenhofer <peter.prettenhofer@gmail.com>\n",
    "#         Lars Buitinck\n",
    "# License: BSD 3 clause\n",
    "\n",
    "from __future__ import print_function\n",
    "\n",
    "from sklearn.datasets import fetch_20newsgroups\n",
    "from sklearn.decomposition import TruncatedSVD\n",
    "from sklearn.feature_extraction.text import TfidfVectorizer\n",
    "from sklearn.feature_extraction.text import HashingVectorizer\n",
    "from sklearn.feature_extraction.text import TfidfTransformer\n",
    "from sklearn.feature_extraction.text import CountVectorizer\n",
    "from sklearn.pipeline import make_pipeline\n",
    "from sklearn.preprocessing import Normalizer\n",
    "from sklearn import metrics\n",
    "import pandas as pd\n",
    "\n",
    "from sklearn.cluster import KMeans, MiniBatchKMeans, MeanShift, AgglomerativeClustering, SpectralClustering, AffinityPropagation, Birch, DBSCAN\n",
    "\n",
    "import logging\n",
    "from optparse import OptionParser\n",
    "import sys\n",
    "import os\n",
    "from time import time\n",
    "\n",
    "import numpy as np\n",
    "\n",
    "\n",
    "# Display progress logs on stdout\n",
    "logging.basicConfig(level=logging.INFO,\n",
    "                    format='%(asctime)s %(levelname)s %(message)s')\n",
    "\n",
    "# parse commandline arguments\n",
    "op = OptionParser()\n",
    "op.add_option(\"--lsa\",\n",
    "              dest=\"n_components\", type=\"int\",\n",
    "              help=\"Preprocess documents with latent semantic analysis.\")\n",
    "op.add_option(\"--no-minibatch\",\n",
    "              action=\"store_false\", dest=\"minibatch\", default=True,\n",
    "              help=\"Use ordinary k-means algorithm (in batch mode).\")\n",
    "op.add_option(\"--no-idf\",\n",
    "              action=\"store_false\", dest=\"use_idf\", default=True,\n",
    "              help=\"Disable Inverse Document Frequency feature weighting.\")\n",
    "op.add_option(\"--use-hashing\",\n",
    "              action=\"store_true\", default=False,\n",
    "              help=\"Use a hashing feature vectorizer\")\n",
    "op.add_option(\"--n-features\", type=int, default=10000,\n",
    "              help=\"Maximum number of features (dimensions)\"\n",
    "                   \" to extract from text.\")\n",
    "op.add_option(\"--verbose\",\n",
    "              action=\"store_true\", dest=\"verbose\", default=False,\n",
    "              help=\"Print progress reports inside k-means algorithm.\")\n",
    "\n",
    "op.add_option(\"-f\")\n",
    "\n",
    "\n",
    "(opts, args) = op.parse_args()\n",
    "if len(args) > 0:\n",
    "    op.error(\"this script takes no arguments.\")\n",
    "    sys.exit(1)"
   ]
  },
  {
   "cell_type": "markdown",
   "metadata": {
    "deletable": true,
    "editable": true
   },
   "source": [
    "Load some categories from the training set\n"
   ]
  },
  {
   "cell_type": "code",
   "execution_count": 50,
   "metadata": {
    "collapsed": false,
    "deletable": true,
    "editable": true
   },
   "outputs": [],
   "source": [
    "indir = '/home/user/projects/data_mining/clustering_cw/book_texts/one_line_text'\n",
    "books_names = []\n",
    "books_texts = []\n",
    "for texts in os.listdir(indir):\n",
    "    name, ex = os.path.splitext(texts)\n",
    "    books_names.append(name)\n",
    "    books_texts.append(open(indir + \"/\" + texts).read())\n",
    "\n",
    "real_names= {'gap_-C0BAAAAQAAJ' : 'Dictionary of Greek and Roman Geography, Edited by William Smith, Vol II',\n",
    "'gap_2X5KAAAAYAAJ' : 'The Works of Cornelius Tacitus, by Arthur Murphy, Vol V',\n",
    "'gap_9ksIAAAAQAAJ' : 'The History of the Peloponnesian War, translated from the Greek of Thucydides, By William Smith, Vol II',\n",
    "'gap_Bdw_AAAAYAAJ' : 'The History of Rome By Titus Liviusm, translated by George Baker, Vol I',\n",
    "'gap_CSEUAAAAYAAJ' : 'The History of the Decline and Fall of The Roman Empire, by Edward Gibbon, Vol III',\n",
    "'gap_CnnUAAAAMAAJ' : 'The Whole Genuie Works of Flavius Josephus, by William Whiston, Vol II',\n",
    "'gap_DhULAAAAYAAJ' : 'The Description of Greece, by Pausanias, Vol III',\n",
    "'gap_DqQNAAAAYAAJ' : 'LIVY , History of Rome, translated by George Baker, Vol III',\n",
    "'gap_GIt0HMhqjRgC' : 'Gibbon\\'s History of the Decline and Fall of The Roman Empire, by Thomas Bowdler, Vol IV',\n",
    "'gap_IlUMAQAAMAAJ' : 'Gibbon\\'s History of the Decline and Fall of the Roman Empire, by Thomas Bowdler, Vol II',\n",
    "'gap_MEoWAAAAYAAJ' : 'The Historical Annals of Cornelius Tacitus, by Arthur Murphy, Vol I',\n",
    "'gap_RqMNAAAAYAAJ' : 'LIVY , History of Rome, translated by George Baker, Vol V',\n",
    "'gap_TgpMAAAAYAAJ' : 'The Genuie Works of Flavius Josephus, by William Whiston, Vol I',\n",
    "'gap_VPENAAAAQAAJ' : 'The History of the Decline and Fall of The Roman Empire, by Edward Gibbon, Vol V',\n",
    "'gap_WORMAAAAYAAJ' : 'The Histories of Caius Cornelius Tacitus, by William Seymour Tyler',\n",
    "'gap_XmqHlMECi6kC' : 'The History of the Decline and Fall of The Roman Empire, by Edward Gibbon, Vol VI',\n",
    "'gap_aLcWAAAAQAAJ' : 'The History of the Decline and Fall of The Roman Empire, by Edward Gibbon, Vol I',\n",
    "'gap_dIkBAAAAQAAJ' : 'The History of Rome by Theoder Mommsen, translated by William P. Dickson, Vol III',\n",
    "'gap_fnAMAAAAYAAJ' : 'The History of the Peloponnesian War by Thucydides, By William Smith, Vol I',\n",
    "'gap_m_6B1DkImIoC' : 'Titus Livus, Roman History, by William Gordon',\n",
    "'gap_ogsNAAAAIAAJ' : 'The Works of Josephus, by William Whiston, Vol IV',\n",
    "'gap_pX5KAAAAYAAJ' : 'The Works of Cornelius Tacitus, by Arthur Murphy, Vol IV',\n",
    "'gap_udEIAAAAQAAJ' : 'The First and Thirty-Third Books of Pliny\\'s Natural History, by John Bostock',\n",
    "'gap_y-AvAAAAYAAJ' : 'The Genuie Works of Flavius Josephus, by William Whiston, Vol III'}\n"
   ]
  },
  {
   "cell_type": "code",
   "execution_count": 64,
   "metadata": {
    "collapsed": false,
    "deletable": true,
    "editable": true
   },
   "outputs": [
    {
     "name": "stdout",
     "output_type": "stream",
     "text": [
      "['gap_ogsNAAAAIAAJ', 'gap_9ksIAAAAQAAJ', 'gap_y-AvAAAAYAAJ', 'gap_TgpMAAAAYAAJ', 'gap_pX5KAAAAYAAJ', 'gap_aLcWAAAAQAAJ', 'gap_GIt0HMhqjRgC', 'gap_fnAMAAAAYAAJ', 'gap_m_6B1DkImIoC', 'gap_MEoWAAAAYAAJ', 'gap_IlUMAQAAMAAJ', 'gap_DqQNAAAAYAAJ', 'gap_-C0BAAAAQAAJ', 'gap_WORMAAAAYAAJ', 'gap_CnnUAAAAMAAJ', 'gap_XmqHlMECi6kC', 'gap_2X5KAAAAYAAJ', 'gap_Bdw_AAAAYAAJ', 'gap_VPENAAAAQAAJ', 'gap_dIkBAAAAQAAJ', 'gap_CSEUAAAAYAAJ', 'gap_udEIAAAAQAAJ', 'gap_RqMNAAAAYAAJ', 'gap_DhULAAAAYAAJ']\n"
     ]
    }
   ],
   "source": [
    "print (books_names)"
   ]
  },
  {
   "cell_type": "code",
   "execution_count": 51,
   "metadata": {
    "collapsed": false,
    "deletable": true,
    "editable": true,
    "scrolled": true
   },
   "outputs": [
    {
     "name": "stdout",
     "output_type": "stream",
     "text": [
      "Loading 20 newsgroups dataset for categories:\n",
      "['alt.atheism', 'talk.religion.misc', 'comp.graphics', 'sci.space']\n",
      "3387 documents\n",
      "4 categories\n",
      "Extracting features from the training dataset using a sparse vectorizer\n",
      "done in 6.837638s\n",
      "n_samples: 24, n_features: 41553\n",
      "\n"
     ]
    }
   ],
   "source": [
    "categories = [\n",
    "    'alt.atheism',\n",
    "    'talk.religion.misc',\n",
    "    'comp.graphics',\n",
    "    'sci.space',\n",
    "]\n",
    "# Uncomment the following to do the analysis on all the categories\n",
    "#categories = None\n",
    "\n",
    "print(\"Loading 20 newsgroups dataset for categories:\")\n",
    "print(categories)\n",
    "\n",
    "dataset = fetch_20newsgroups(subset='all', categories=categories,\n",
    "                             shuffle=True, random_state=42)\n",
    "\n",
    "print(\"%d documents\" % len(dataset.data))\n",
    "print(\"%d categories\" % len(dataset.target_names))\n",
    "\n",
    "\n",
    "labels = dataset.target\n",
    "true_k = np.unique(labels).shape[0]\n",
    "\n",
    "print(\"Extracting features from the training dataset using a sparse vectorizer\")\n",
    "t0 = time()\n",
    "if opts.use_hashing:\n",
    "    if opts.use_idf:\n",
    "        # Perform an IDF normalization on the output of HashingVectorizer\n",
    "        hasher = HashingVectorizer(\n",
    "                                   stop_words='english', non_negative=True,\n",
    "                                   norm=None, binary=False)\n",
    "        vectorizer = make_pipeline(hasher, TfidfTransformer())\n",
    "    else:\n",
    "        vectorizer = HashingVectorizer(\n",
    "                                       stop_words='english',\n",
    "                                       non_negative=False, norm='l2',\n",
    "                                       binary=False)\n",
    "else:\n",
    "    vectorizer = TfidfVectorizer(max_df=0.5,\n",
    "                                 min_df=2, stop_words='english',\n",
    "                                 use_idf=opts.use_idf)\n",
    "    \n",
    "data_file = open(\"/home/user/projects/data_mining/clustering_cw/testing/text/00000023.txt\",\"r\")\n",
    "X = vectorizer.fit_transform(books_texts)\n",
    "\n",
    "print(\"done in %fs\" % (time() - t0))\n",
    "print(\"n_samples: %d, n_features: %d\" % X.shape)\n",
    "print()\n",
    "\n",
    "if opts.n_components:\n",
    "    print(\"Performing dimensionality reduction using LSA\")\n",
    "    t0 = time()\n",
    "    # Vectorizer results are normalized, which makes KMeans behave as\n",
    "    # spherical k-means for better results. Since LSA/SVD results are\n",
    "    # not normalized, we have to redo the normalization.\n",
    "    svd = TruncatedSVD(opts.n_components)\n",
    "    normalizer = Normalizer(copy=False)\n",
    "    lsa = make_pipeline(svd, normalizer)\n",
    "\n",
    "    X = lsa.fit_transform(X)\n",
    "\n",
    "    print(\"done in %fs\" % (time() - t0))\n",
    "\n",
    "    explained_variance = svd.explained_variance_ratio_.sum()\n",
    "    print(\"Explained variance of the SVD step: {}%\".format(\n",
    "        int(explained_variance * 100)))\n",
    "\n",
    "    print()"
   ]
  },
  {
   "cell_type": "code",
   "execution_count": 101,
   "metadata": {
    "collapsed": false,
    "deletable": true,
    "editable": true
   },
   "outputs": [
    {
     "name": "stdout",
     "output_type": "stream",
     "text": [
      "[8, 2, 8, 8, 0, 7, 7, 2, 1, 0, 7, 1, 4, 0, 8, 7, 0, 1, 7, 6, 7, 5, 1, 3]\n"
     ]
    }
   ],
   "source": [
    "clusters = [[4, 9, 13, 16], [8, 11, 17, 22], [1, 7], [23], [12], [21], [19], [5, 6, 10, 15, 18, 20], [0, 2, 3, 14]]\n",
    "labels_temp = []\n",
    "for i, cluster in enumerate(clusters):\n",
    "    for book_i in cluster:\n",
    "        labels_temp.append([book_i,i])\n",
    "labels_temp.sort()\n",
    "labels = []\n",
    "for ind, clust in labels_temp:\n",
    "      labels.append(clust)\n",
    "print(labels)"
   ]
  },
  {
   "cell_type": "markdown",
   "metadata": {
    "deletable": true,
    "editable": true
   },
   "source": [
    "Do the actual clustering\n"
   ]
  },
  {
   "cell_type": "code",
   "execution_count": 141,
   "metadata": {
    "collapsed": false,
    "deletable": true,
    "editable": true
   },
   "outputs": [
    {
     "name": "stdout",
     "output_type": "stream",
     "text": [
      "n_samples: 24, n_features: 41553\n",
      "\n",
      "Books in cluster:\n",
      "Cluster 0:\n",
      "|gap_GIt0HMhqjRgC|[6]  Gibbon's History of the Decline and Fall of The Roman Empire, by Thomas Bowdler, Vol IV\n",
      "|gap_XmqHlMECi6kC|[15]  The History of the Decline and Fall of The Roman Empire, by Edward Gibbon, Vol VI\n",
      "|gap_VPENAAAAQAAJ|[18]  The History of the Decline and Fall of The Roman Empire, by Edward Gibbon, Vol V\n",
      "|gap_CSEUAAAAYAAJ|[20]  The History of the Decline and Fall of The Roman Empire, by Edward Gibbon, Vol III\n",
      "Cluster 1:\n",
      "|gap_ogsNAAAAIAAJ|[0]  The Works of Josephus, by William Whiston, Vol IV\n",
      "|gap_y-AvAAAAYAAJ|[2]  The Genuie Works of Flavius Josephus, by William Whiston, Vol III\n",
      "|gap_TgpMAAAAYAAJ|[3]  The Genuie Works of Flavius Josephus, by William Whiston, Vol I\n",
      "|gap_-C0BAAAAQAAJ|[12]  Dictionary of Greek and Roman Geography, Edited by William Smith, Vol II\n",
      "|gap_CnnUAAAAMAAJ|[14]  The Whole Genuie Works of Flavius Josephus, by William Whiston, Vol II\n",
      "Cluster 2:\n",
      "|gap_9ksIAAAAQAAJ|[1]  The History of the Peloponnesian War, translated from the Greek of Thucydides, By William Smith, Vol II\n",
      "|gap_fnAMAAAAYAAJ|[7]  The History of the Peloponnesian War by Thucydides, By William Smith, Vol I\n",
      "|gap_DhULAAAAYAAJ|[23]  The Description of Greece, by Pausanias, Vol III\n",
      "Cluster 3:\n",
      "|gap_m_6B1DkImIoC|[8]  Titus Livus, Roman History, by William Gordon\n",
      "|gap_DqQNAAAAYAAJ|[11]  LIVY , History of Rome, translated by George Baker, Vol III\n",
      "|gap_Bdw_AAAAYAAJ|[17]  The History of Rome By Titus Liviusm, translated by George Baker, Vol I\n",
      "|gap_RqMNAAAAYAAJ|[22]  LIVY , History of Rome, translated by George Baker, Vol V\n",
      "Cluster 4:\n",
      "|gap_aLcWAAAAQAAJ|[5]  The History of the Decline and Fall of The Roman Empire, by Edward Gibbon, Vol I\n",
      "|gap_IlUMAQAAMAAJ|[10]  Gibbon's History of the Decline and Fall of the Roman Empire, by Thomas Bowdler, Vol II\n",
      "Cluster 5:\n",
      "|gap_WORMAAAAYAAJ|[13]  The Histories of Caius Cornelius Tacitus, by William Seymour Tyler\n",
      "|gap_2X5KAAAAYAAJ|[16]  The Works of Cornelius Tacitus, by Arthur Murphy, Vol V\n",
      "|gap_udEIAAAAQAAJ|[21]  The First and Thirty-Third Books of Pliny's Natural History, by John Bostock\n",
      "Cluster 6:\n",
      "|gap_pX5KAAAAYAAJ|[4]  The Works of Cornelius Tacitus, by Arthur Murphy, Vol IV\n",
      "|gap_MEoWAAAAYAAJ|[9]  The Historical Annals of Cornelius Tacitus, by Arthur Murphy, Vol I\n",
      "|gap_dIkBAAAAQAAJ|[19]  The History of Rome by Theoder Mommsen, translated by William P. Dickson, Vol III\n"
     ]
    }
   ],
   "source": [
    "n_clusters=7\n",
    "#vectorizer = CountVectorizer(max_df=0.5,min_df=2, stop_words='english', analyzer = 'word') \n",
    "#vectorizer = HashingVectorizer(stop_words='english', non_negative=False, norm='l2', binary=False, analyzer = 'word')\n",
    "vectorizer = TfidfVectorizer(max_df=0.5, min_df=2, stop_words='english', norm='l2', analyzer = 'word')\n",
    "\n",
    "X = vectorizer.fit_transform(books_texts)\n",
    "print(\"n_samples: %d, n_features: %d\" % X.shape)\n",
    "print()\n",
    "#terms = vectorizer.get_feature_names()\n",
    "\n",
    "ac = KMeans(n_clusters=n_clusters, init='k-means++', max_iter=100, n_init=1,\n",
    "                verbose=opts.verbose)\n",
    "ac.fit(X.todense())\n",
    "\n",
    "#order_centroids = ac.cluster_centers_.argsort()[:, ::-1]\n",
    "names_list = []\n",
    "for i in range(np.unique(ac.labels_).shape[0]):\n",
    "    #print(\"Cluster %d:\" % i, end='')\n",
    "    #for ind in order_centroids[i, :20]:\n",
    "    #    print(' %s' % terms[ind], end='')\n",
    "    indices = [a for a, x in enumerate(ac.labels_ ) if x == i]\n",
    "    #print()\n",
    "    #print (\"Books in cluster %d :\" % len(indices), end='')\n",
    "    names_list_temp = []\n",
    "    for ind in indices:        \n",
    "        names_list_temp.append([ind,books_names[ind]])\n",
    "        #print(' %s' % books_names[ind], end='')\n",
    "    names_list.append(names_list_temp)\n",
    "    #print()\n",
    "    #print()\n",
    "\n",
    "\n",
    "print(\"Books in cluster:\")\n",
    "for i in range(np.unique(ac.labels_).shape[0]):\n",
    "    print(\"Cluster %d:\" % i)\n",
    "    for ind, key in names_list[i]:\n",
    "        print(\"|%s|[%d]  %s\" % (key,ind, real_names.get(key)))\n",
    "        "
   ]
  },
  {
   "cell_type": "code",
   "execution_count": 143,
   "metadata": {
    "collapsed": false
   },
   "outputs": [
    {
     "data": {
      "text/plain": [
       "11.925903532412864"
      ]
     },
     "execution_count": 143,
     "metadata": {},
     "output_type": "execute_result"
    }
   ],
   "source": [
    "ac.inertia_"
   ]
  },
  {
   "cell_type": "code",
   "execution_count": 159,
   "metadata": {
    "collapsed": false,
    "deletable": true,
    "editable": true,
    "scrolled": false
   },
   "outputs": [
    {
     "name": "stdout",
     "output_type": "stream",
     "text": [
      "n_samples: 24, n_features: 38775\n",
      "\n",
      "Books in cluster:\n",
      "Cluster 0:\n",
      "|gap_ogsNAAAAIAAJ|[0]  The Works of Josephus, by William Whiston, Vol IV\n",
      "|gap_y-AvAAAAYAAJ|[2]  The Genuie Works of Flavius Josephus, by William Whiston, Vol III\n",
      "|gap_TgpMAAAAYAAJ|[3]  The Genuie Works of Flavius Josephus, by William Whiston, Vol I\n",
      "|gap_pX5KAAAAYAAJ|[4]  The Works of Cornelius Tacitus, by Arthur Murphy, Vol IV\n",
      "|gap_aLcWAAAAQAAJ|[5]  The History of the Decline and Fall of The Roman Empire, by Edward Gibbon, Vol I\n",
      "|gap_GIt0HMhqjRgC|[6]  Gibbon's History of the Decline and Fall of The Roman Empire, by Thomas Bowdler, Vol IV\n",
      "|gap_fnAMAAAAYAAJ|[7]  The History of the Peloponnesian War by Thucydides, By William Smith, Vol I\n",
      "|gap_m_6B1DkImIoC|[8]  Titus Livus, Roman History, by William Gordon\n",
      "|gap_IlUMAQAAMAAJ|[10]  Gibbon's History of the Decline and Fall of the Roman Empire, by Thomas Bowdler, Vol II\n",
      "|gap_DqQNAAAAYAAJ|[11]  LIVY , History of Rome, translated by George Baker, Vol III\n",
      "|gap_-C0BAAAAQAAJ|[12]  Dictionary of Greek and Roman Geography, Edited by William Smith, Vol II\n",
      "|gap_WORMAAAAYAAJ|[13]  The Histories of Caius Cornelius Tacitus, by William Seymour Tyler\n",
      "|gap_CnnUAAAAMAAJ|[14]  The Whole Genuie Works of Flavius Josephus, by William Whiston, Vol II\n",
      "|gap_XmqHlMECi6kC|[15]  The History of the Decline and Fall of The Roman Empire, by Edward Gibbon, Vol VI\n",
      "|gap_2X5KAAAAYAAJ|[16]  The Works of Cornelius Tacitus, by Arthur Murphy, Vol V\n",
      "|gap_VPENAAAAQAAJ|[18]  The History of the Decline and Fall of The Roman Empire, by Edward Gibbon, Vol V\n",
      "|gap_dIkBAAAAQAAJ|[19]  The History of Rome by Theoder Mommsen, translated by William P. Dickson, Vol III\n",
      "|gap_CSEUAAAAYAAJ|[20]  The History of the Decline and Fall of The Roman Empire, by Edward Gibbon, Vol III\n",
      "|gap_udEIAAAAQAAJ|[21]  The First and Thirty-Third Books of Pliny's Natural History, by John Bostock\n",
      "|gap_RqMNAAAAYAAJ|[22]  LIVY , History of Rome, translated by George Baker, Vol V\n",
      "|gap_DhULAAAAYAAJ|[23]  The Description of Greece, by Pausanias, Vol III\n",
      "Cluster 1:\n",
      "|gap_MEoWAAAAYAAJ|[9]  The Historical Annals of Cornelius Tacitus, by Arthur Murphy, Vol I\n",
      "Cluster 2:\n",
      "|gap_9ksIAAAAQAAJ|[1]  The History of the Peloponnesian War, translated from the Greek of Thucydides, By William Smith, Vol II\n",
      "Cluster 3:\n",
      "|gap_Bdw_AAAAYAAJ|[17]  The History of Rome By Titus Liviusm, translated by George Baker, Vol I\n",
      "[0 2 0 0 0 0 0 0 0 1 0 0 0 0 0 0 0 3 0 0 0 0 0 0]\n",
      "[0 1 2 3]\n",
      "4\n"
     ]
    },
    {
     "data": {
      "text/plain": [
       "{'analyzer': 'word',\n",
       " 'binary': False,\n",
       " 'decode_error': u'strict',\n",
       " 'dtype': numpy.int64,\n",
       " 'encoding': u'utf-8',\n",
       " 'input': u'content',\n",
       " 'lowercase': True,\n",
       " 'max_df': 0.4,\n",
       " 'max_features': None,\n",
       " 'min_df': 2,\n",
       " 'ngram_range': (1, 1),\n",
       " 'norm': 'l1',\n",
       " 'preprocessor': None,\n",
       " 'smooth_idf': True,\n",
       " 'stop_words': 'english',\n",
       " 'strip_accents': None,\n",
       " 'sublinear_tf': False,\n",
       " 'token_pattern': u'(?u)\\\\b\\\\w\\\\w+\\\\b',\n",
       " 'tokenizer': None,\n",
       " 'use_idf': True,\n",
       " 'vocabulary': None}"
      ]
     },
     "execution_count": 159,
     "metadata": {},
     "output_type": "execute_result"
    }
   ],
   "source": [
    "#vectorizer = CountVectorizer(max_df=0.5,min_df=2, stop_words='english', analyzer = 'word')\n",
    "#vectorizer = HashingVectorizer(stop_words='english', non_negative=False, norm='l2', binary=False, analyzer = 'word')\n",
    "vectorizer = TfidfVectorizer(max_df=0.4,min_df=2, stop_words='english', norm='l1', analyzer = 'word')\n",
    "\n",
    "X = vectorizer.fit_transform(books_texts)\n",
    "print(\"n_samples: %d, n_features: %d\" % X.shape)\n",
    "print()\n",
    "terms = vectorizer.get_feature_names()\n",
    "\n",
    "ac = MeanShift()\n",
    "ac.fit(X.todense())\n",
    "\n",
    "#order_centroids = ac.cluster_centers_.argsort()[:, ::-1]\n",
    "names_list = []\n",
    "for i in range(np.unique(ac.labels_).shape[0]):\n",
    "    #print(\"Cluster %d:\" % i, end='')\n",
    "    #for ind in order_centroids[i, :20]:\n",
    "    #    print(' %s' % terms[ind], end='')\n",
    "    indices = [a for a, x in enumerate(ac.labels_ ) if x == i]\n",
    "    #print()\n",
    "    #print (\"Books in cluster %d :\" % len(indices), end='')\n",
    "    names_list_temp = []\n",
    "    for ind in indices:        \n",
    "        names_list_temp.append([ind,books_names[ind]])\n",
    "        #print(' %s' % books_names[ind], end='')\n",
    "    names_list.append(names_list_temp)\n",
    "    #print()\n",
    "    #print()\n",
    "\n",
    "\n",
    "print(\"Books in cluster:\")\n",
    "for i in range(np.unique(ac.labels_).shape[0]):\n",
    "    print(\"Cluster %d:\" % i)\n",
    "    for ind, key in names_list[i]:\n",
    "        print(\"|%s|[%d]  %s\" % (key,ind, real_names.get(key)))\n",
    "\n",
    "print(ac.labels_)\n",
    "print(np.unique(ac.labels_))\n",
    "print(len(np.unique(ac.labels_)))\n",
    "vectorizer.get_params()"
   ]
  },
  {
   "cell_type": "code",
   "execution_count": 79,
   "metadata": {
    "collapsed": false,
    "deletable": true,
    "editable": true,
    "scrolled": false
   },
   "outputs": [
    {
     "name": "stdout",
     "output_type": "stream",
     "text": [
      "n_samples: 24, n_features: 41553\n",
      "\n",
      "Books in cluster:\n",
      "Cluster 0:\n",
      "|gap_pX5KAAAAYAAJ|[4]  The Works of Cornelius Tacitus, by Arthur Murphy, Vol IV\n",
      "|gap_MEoWAAAAYAAJ|[9]  The Historical Annals of Cornelius Tacitus, by Arthur Murphy, Vol I\n",
      "|gap_WORMAAAAYAAJ|[13]  The Histories of Caius Cornelius Tacitus, by William Seymour Tyler\n",
      "|gap_2X5KAAAAYAAJ|[16]  The Works of Cornelius Tacitus, by Arthur Murphy, Vol V\n",
      "Cluster 1:\n",
      "|gap_m_6B1DkImIoC|[8]  Titus Livus, Roman History, by William Gordon\n",
      "|gap_DqQNAAAAYAAJ|[11]  LIVY , History of Rome, translated by George Baker, Vol III\n",
      "|gap_Bdw_AAAAYAAJ|[17]  The History of Rome By Titus Liviusm, translated by George Baker, Vol I\n",
      "|gap_RqMNAAAAYAAJ|[22]  LIVY , History of Rome, translated by George Baker, Vol V\n",
      "Cluster 2:\n",
      "|gap_9ksIAAAAQAAJ|[1]  The History of the Peloponnesian War, translated from the Greek of Thucydides, By William Smith, Vol II\n",
      "|gap_fnAMAAAAYAAJ|[7]  The History of the Peloponnesian War by Thucydides, By William Smith, Vol I\n",
      "|gap_DhULAAAAYAAJ|[23]  The Description of Greece, by Pausanias, Vol III\n",
      "Cluster 3:\n",
      "|gap_udEIAAAAQAAJ|[21]  The First and Thirty-Third Books of Pliny's Natural History, by John Bostock\n",
      "Cluster 4:\n",
      "|gap_-C0BAAAAQAAJ|[12]  Dictionary of Greek and Roman Geography, Edited by William Smith, Vol II\n",
      "|gap_dIkBAAAAQAAJ|[19]  The History of Rome by Theoder Mommsen, translated by William P. Dickson, Vol III\n",
      "Cluster 5:\n",
      "|gap_aLcWAAAAQAAJ|[5]  The History of the Decline and Fall of The Roman Empire, by Edward Gibbon, Vol I\n",
      "|gap_GIt0HMhqjRgC|[6]  Gibbon's History of the Decline and Fall of The Roman Empire, by Thomas Bowdler, Vol IV\n",
      "|gap_IlUMAQAAMAAJ|[10]  Gibbon's History of the Decline and Fall of the Roman Empire, by Thomas Bowdler, Vol II\n",
      "|gap_XmqHlMECi6kC|[15]  The History of the Decline and Fall of The Roman Empire, by Edward Gibbon, Vol VI\n",
      "|gap_VPENAAAAQAAJ|[18]  The History of the Decline and Fall of The Roman Empire, by Edward Gibbon, Vol V\n",
      "|gap_CSEUAAAAYAAJ|[20]  The History of the Decline and Fall of The Roman Empire, by Edward Gibbon, Vol III\n",
      "Cluster 6:\n",
      "|gap_ogsNAAAAIAAJ|[0]  The Works of Josephus, by William Whiston, Vol IV\n",
      "|gap_y-AvAAAAYAAJ|[2]  The Genuie Works of Flavius Josephus, by William Whiston, Vol III\n",
      "|gap_TgpMAAAAYAAJ|[3]  The Genuie Works of Flavius Josephus, by William Whiston, Vol I\n",
      "|gap_CnnUAAAAMAAJ|[14]  The Whole Genuie Works of Flavius Josephus, by William Whiston, Vol II\n"
     ]
    }
   ],
   "source": [
    "n_clusters=7\n",
    "#vectorizer = CountVectorizer(max_df=0.5,min_df=2, stop_words='english', analyzer = 'word') \n",
    "#vectorizer = HashingVectorizer(stop_words='english', non_negative=False, norm='l2', binary=False, analyzer = 'word')\n",
    "vectorizer = TfidfVectorizer(max_df=0.5, min_df=2, stop_words='english', norm='l2', analyzer = 'word')\n",
    "\n",
    "X = vectorizer.fit_transform(books_texts)\n",
    "print(\"n_samples: %d, n_features: %d\" % X.shape)\n",
    "print()\n",
    "#terms = vectorizer.get_feature_names()\n",
    "\n",
    "ac = AgglomerativeClustering(n_clusters=n_clusters, affinity ='l2', linkage='average')\n",
    "ac.fit(X.todense())\n",
    "\n",
    "#order_centroids = ac.cluster_centers_.argsort()[:, ::-1]\n",
    "names_list = []\n",
    "for i in range(np.unique(ac.labels_).shape[0]):\n",
    "    #print(\"Cluster %d:\" % i, end='')\n",
    "    #for ind in order_centroids[i, :20]:\n",
    "    #    print(' %s' % terms[ind], end='')\n",
    "    indices = [a for a, x in enumerate(ac.labels_ ) if x == i]\n",
    "    #print()\n",
    "    #print (\"Books in cluster %d :\" % len(indices), end='')\n",
    "    names_list_temp = []\n",
    "    for ind in indices:        \n",
    "        names_list_temp.append([ind,books_names[ind]])\n",
    "        #print(' %s' % books_names[ind], end='')\n",
    "    names_list.append(names_list_temp)\n",
    "    #print()\n",
    "    #print()\n",
    "\n",
    "\n",
    "print(\"Books in cluster:\")\n",
    "for i in range(np.unique(ac.labels_).shape[0]):\n",
    "    print(\"Cluster %d:\" % i)\n",
    "    for ind, key in names_list[i]:\n",
    "        print(\"|%s|[%d]  %s\" % (key,ind, real_names.get(key)))"
   ]
  },
  {
   "cell_type": "code",
   "execution_count": 82,
   "metadata": {
    "collapsed": false,
    "deletable": true,
    "editable": true
   },
   "outputs": [
    {
     "name": "stdout",
     "output_type": "stream",
     "text": [
      "Books in cluster:\n",
      "Cluster 0:\n",
      "|gap_pX5KAAAAYAAJ[4]  The Works of Cornelius Tacitus, by Arthur Murphy, Vol IV\n",
      "|gap_MEoWAAAAYAAJ[9]  The Historical Annals of Cornelius Tacitus, by Arthur Murphy, Vol I\n",
      "|gap_WORMAAAAYAAJ[13]  The Histories of Caius Cornelius Tacitus, by William Seymour Tyler\n",
      "|gap_2X5KAAAAYAAJ[16]  The Works of Cornelius Tacitus, by Arthur Murphy, Vol V\n",
      "Cluster 1:\n",
      "|gap_m_6B1DkImIoC[8]  Titus Livus, Roman History, by William Gordon\n",
      "|gap_DqQNAAAAYAAJ[11]  LIVY , History of Rome, translated by George Baker, Vol III\n",
      "|gap_Bdw_AAAAYAAJ[17]  The History of Rome By Titus Liviusm, translated by George Baker, Vol I\n",
      "|gap_RqMNAAAAYAAJ[22]  LIVY , History of Rome, translated by George Baker, Vol V\n",
      "Cluster 2:\n",
      "|gap_9ksIAAAAQAAJ[1]  The History of the Peloponnesian War, translated from the Greek of Thucydides, By William Smith, Vol II\n",
      "|gap_fnAMAAAAYAAJ[7]  The History of the Peloponnesian War by Thucydides, By William Smith, Vol I\n",
      "Cluster 3:\n",
      "|gap_DhULAAAAYAAJ[23]  The Description of Greece, by Pausanias, Vol III\n",
      "Cluster 4:\n",
      "|gap_-C0BAAAAQAAJ[12]  Dictionary of Greek and Roman Geography, Edited by William Smith, Vol II\n",
      "Cluster 5:\n",
      "|gap_udEIAAAAQAAJ[21]  The First and Thirty-Third Books of Pliny's Natural History, by John Bostock\n",
      "Cluster 6:\n",
      "|gap_dIkBAAAAQAAJ[19]  The History of Rome by Theoder Mommsen, translated by William P. Dickson, Vol III\n",
      "Cluster 7:\n",
      "|gap_aLcWAAAAQAAJ[5]  The History of the Decline and Fall of The Roman Empire, by Edward Gibbon, Vol I\n",
      "|gap_GIt0HMhqjRgC[6]  Gibbon's History of the Decline and Fall of The Roman Empire, by Thomas Bowdler, Vol IV\n",
      "|gap_IlUMAQAAMAAJ[10]  Gibbon's History of the Decline and Fall of the Roman Empire, by Thomas Bowdler, Vol II\n",
      "|gap_XmqHlMECi6kC[15]  The History of the Decline and Fall of The Roman Empire, by Edward Gibbon, Vol VI\n",
      "|gap_VPENAAAAQAAJ[18]  The History of the Decline and Fall of The Roman Empire, by Edward Gibbon, Vol V\n",
      "|gap_CSEUAAAAYAAJ[20]  The History of the Decline and Fall of The Roman Empire, by Edward Gibbon, Vol III\n",
      "Cluster 8:\n",
      "|gap_ogsNAAAAIAAJ[0]  The Works of Josephus, by William Whiston, Vol IV\n",
      "|gap_y-AvAAAAYAAJ[2]  The Genuie Works of Flavius Josephus, by William Whiston, Vol III\n",
      "|gap_TgpMAAAAYAAJ[3]  The Genuie Works of Flavius Josephus, by William Whiston, Vol I\n",
      "|gap_CnnUAAAAMAAJ[14]  The Whole Genuie Works of Flavius Josephus, by William Whiston, Vol II\n"
     ]
    }
   ],
   "source": [
    "clusters = [[4, 9, 13, 16], [8, 11, 17, 22], [1, 7], [23], [12], [21], [19], [5, 6, 10, 15, 18, 20], [0, 2, 3, 14]]\n",
    "print(\"Books in cluster:\")\n",
    "for i, cluster in enumerate(clusters):\n",
    "    print(\"Cluster %d:\" % i)\n",
    "    for book_i in cluster:\n",
    "        print(\"|%s[%d]  %s\" % (books_names[book_i], book_i, real_names.get(books_names[book_i])))"
   ]
  },
  {
   "cell_type": "code",
   "execution_count": 102,
   "metadata": {
    "collapsed": false,
    "deletable": true,
    "editable": true
   },
   "outputs": [
    {
     "data": {
      "text/plain": [
       "[(0, [4, 9, 13, 16]),\n",
       " (1, [8, 11, 17, 22]),\n",
       " (2, [1, 7]),\n",
       " (3, [23]),\n",
       " (4, [12]),\n",
       " (5, [21]),\n",
       " (6, [19]),\n",
       " (7, [5, 6, 10, 15, 18, 20]),\n",
       " (8, [0, 2, 3, 14])]"
      ]
     },
     "execution_count": 102,
     "metadata": {},
     "output_type": "execute_result"
    }
   ],
   "source": [
    "list(enumerate(clusters))"
   ]
  },
  {
   "cell_type": "code",
   "execution_count": 103,
   "metadata": {
    "collapsed": false,
    "deletable": true,
    "editable": true
   },
   "outputs": [
    {
     "data": {
      "text/plain": [
       "array([6, 2, 6, 6, 0, 5, 5, 2, 1, 0, 5, 1, 4, 0, 6, 5, 0, 1, 5, 4, 5, 3, 1,\n",
       "       2])"
      ]
     },
     "execution_count": 103,
     "metadata": {},
     "output_type": "execute_result"
    }
   ],
   "source": [
    "ac.labels_"
   ]
  },
  {
   "cell_type": "code",
   "execution_count": 104,
   "metadata": {
    "collapsed": false,
    "deletable": true,
    "editable": true
   },
   "outputs": [
    {
     "name": "stdout",
     "output_type": "stream",
     "text": [
      "[6 2 6 6 0 5 5 2 1 0 5 1 4 0 6 5 0 1 5 4 5 3 1 2]\n"
     ]
    }
   ],
   "source": [
    "print(ac.labels_)"
   ]
  },
  {
   "cell_type": "code",
   "execution_count": 105,
   "metadata": {
    "collapsed": false,
    "deletable": true,
    "editable": true
   },
   "outputs": [
    {
     "data": {
      "text/plain": [
       "array([0, 4, 0, 0, 2, 5, 1, 4, 3, 2, 5, 3, 0, 2, 0, 6, 2, 3, 1, 3, 6, 1, 3,\n",
       "       3], dtype=int32)"
      ]
     },
     "execution_count": 105,
     "metadata": {},
     "output_type": "execute_result"
    }
   ],
   "source": [
    "km.labels_"
   ]
  },
  {
   "cell_type": "code",
   "execution_count": 106,
   "metadata": {
    "collapsed": false,
    "deletable": true,
    "editable": true
   },
   "outputs": [
    {
     "name": "stdout",
     "output_type": "stream",
     "text": [
      "[0 4 0 0 2 5 1 4 3 2 5 3 0 2 0 6 2 3 1 3 6 1 3 3]\n"
     ]
    }
   ],
   "source": [
    "print(km.labels_)"
   ]
  },
  {
   "cell_type": "code",
   "execution_count": 107,
   "metadata": {
    "collapsed": false,
    "deletable": true,
    "editable": true
   },
   "outputs": [
    {
     "name": "stdout",
     "output_type": "stream",
     "text": [
      "0.0736903545892\n",
      "0.444200235393\n",
      "0.605939156599\n",
      "0.078388927247\n",
      "0.328978989235\n",
      "0.599776446459\n",
      "0.42489947631\n",
      "(0.32897898923510605, 0.59977644645899375, 0.42489947630969638)\n",
      "0.345562629893\n",
      "0.112018129145\n",
      "2.02598004767\n"
     ]
    }
   ],
   "source": [
    "label1 = [6, 2, 6, 6, 0, 5, 5, 2, 1, 0, 5, 1, 4, 0, 6, 5, 0, 1, 5, 4, 5, 3, 1, 4]\n",
    "label2 = [0, 0, 0, 0, 5, 0, 0, 0, 0, 6, 0, 2, 0, 0, 0, 0, 3, 0, 0, 0, 0, 4, 1, 0]\n",
    "\n",
    "print (metrics.adjusted_rand_score(label1, label2))\n",
    "print (metrics.normalized_mutual_info_score(label1, label2))\n",
    "print (metrics.mutual_info_score(label1, label2))\n",
    "print (metrics.adjusted_mutual_info_score(label1, label2))\n",
    "print (metrics.homogeneity_score(label1, label2))  \n",
    "print (metrics.completeness_score(label1, label2)) \n",
    "print (metrics.v_measure_score(label1, label2))\n",
    "print (metrics.homogeneity_completeness_v_measure(label1, label2))\n",
    "print (metrics.fowlkes_mallows_score(label1, label2))\n",
    "print (metrics.silhouette_score(X.todense(), km.labels_, metric='euclidean'))\n",
    "print (metrics.calinski_harabaz_score(X.todense(), km.labels_))\n"
   ]
  },
  {
   "cell_type": "code",
   "execution_count": 114,
   "metadata": {
    "collapsed": false,
    "deletable": true,
    "editable": true
   },
   "outputs": [
    {
     "name": "stdout",
     "output_type": "stream",
     "text": [
      "n_samples: 24, n_features: 41553\n",
      "\n",
      "Books in cluster:\n",
      "Cluster 0:\n",
      "|gap_9ksIAAAAQAAJ|[1]  The History of the Peloponnesian War, translated from the Greek of Thucydides, By William Smith, Vol II\n",
      "|gap_fnAMAAAAYAAJ|[7]  The History of the Peloponnesian War by Thucydides, By William Smith, Vol I\n",
      "|gap_DhULAAAAYAAJ|[23]  The Description of Greece, by Pausanias, Vol III\n",
      "Cluster 1:\n",
      "|gap_pX5KAAAAYAAJ|[4]  The Works of Cornelius Tacitus, by Arthur Murphy, Vol IV\n",
      "|gap_MEoWAAAAYAAJ|[9]  The Historical Annals of Cornelius Tacitus, by Arthur Murphy, Vol I\n",
      "Cluster 2:\n",
      "|gap_m_6B1DkImIoC|[8]  Titus Livus, Roman History, by William Gordon\n",
      "|gap_DqQNAAAAYAAJ|[11]  LIVY , History of Rome, translated by George Baker, Vol III\n",
      "|gap_Bdw_AAAAYAAJ|[17]  The History of Rome By Titus Liviusm, translated by George Baker, Vol I\n",
      "|gap_dIkBAAAAQAAJ|[19]  The History of Rome by Theoder Mommsen, translated by William P. Dickson, Vol III\n",
      "|gap_RqMNAAAAYAAJ|[22]  LIVY , History of Rome, translated by George Baker, Vol V\n",
      "Cluster 3:\n",
      "|gap_WORMAAAAYAAJ|[13]  The Histories of Caius Cornelius Tacitus, by William Seymour Tyler\n",
      "|gap_2X5KAAAAYAAJ|[16]  The Works of Cornelius Tacitus, by Arthur Murphy, Vol V\n",
      "|gap_udEIAAAAQAAJ|[21]  The First and Thirty-Third Books of Pliny's Natural History, by John Bostock\n",
      "Cluster 4:\n",
      "|gap_ogsNAAAAIAAJ|[0]  The Works of Josephus, by William Whiston, Vol IV\n",
      "|gap_y-AvAAAAYAAJ|[2]  The Genuie Works of Flavius Josephus, by William Whiston, Vol III\n",
      "|gap_TgpMAAAAYAAJ|[3]  The Genuie Works of Flavius Josephus, by William Whiston, Vol I\n",
      "|gap_-C0BAAAAQAAJ|[12]  Dictionary of Greek and Roman Geography, Edited by William Smith, Vol II\n",
      "|gap_CnnUAAAAMAAJ|[14]  The Whole Genuie Works of Flavius Josephus, by William Whiston, Vol II\n",
      "Cluster 5:\n",
      "|gap_aLcWAAAAQAAJ|[5]  The History of the Decline and Fall of The Roman Empire, by Edward Gibbon, Vol I\n",
      "|gap_GIt0HMhqjRgC|[6]  Gibbon's History of the Decline and Fall of The Roman Empire, by Thomas Bowdler, Vol IV\n",
      "|gap_IlUMAQAAMAAJ|[10]  Gibbon's History of the Decline and Fall of the Roman Empire, by Thomas Bowdler, Vol II\n",
      "|gap_XmqHlMECi6kC|[15]  The History of the Decline and Fall of The Roman Empire, by Edward Gibbon, Vol VI\n",
      "|gap_VPENAAAAQAAJ|[18]  The History of the Decline and Fall of The Roman Empire, by Edward Gibbon, Vol V\n",
      "|gap_CSEUAAAAYAAJ|[20]  The History of the Decline and Fall of The Roman Empire, by Edward Gibbon, Vol III\n"
     ]
    }
   ],
   "source": [
    "n_clusters=7\n",
    "#vectorizer = CountVectorizer(max_df=0.5,min_df=2, stop_words='english', analyzer = 'word') \n",
    "#vectorizer = HashingVectorizer(stop_words='english', non_negative=False, norm='l2', binary=False, analyzer = 'word')\n",
    "vectorizer = TfidfVectorizer(max_df=0.5, min_df=2, stop_words='english', norm='l2', analyzer = 'word')\n",
    "\n",
    "X = vectorizer.fit_transform(books_texts)\n",
    "print(\"n_samples: %d, n_features: %d\" % X.shape)\n",
    "print()\n",
    "#terms = vectorizer.get_feature_names()\n",
    "\n",
    "ac = AffinityPropagation(damping=0.5, max_iter=200, convergence_iter=15, affinity='euclidean');\n",
    "ac.fit(X.todense())\n",
    "\n",
    "#order_centroids = ac.cluster_centers_.argsort()[:, ::-1]\n",
    "names_list = []\n",
    "for i in range(np.unique(ac.labels_).shape[0]):\n",
    "    #print(\"Cluster %d:\" % i, end='')\n",
    "    #for ind in order_centroids[i, :20]:\n",
    "    #    print(' %s' % terms[ind], end='')\n",
    "    indices = [a for a, x in enumerate(ac.labels_ ) if x == i]\n",
    "    #print()\n",
    "    #print (\"Books in cluster %d :\" % len(indices), end='')\n",
    "    names_list_temp = []\n",
    "    for ind in indices:        \n",
    "        names_list_temp.append([ind,books_names[ind]])\n",
    "        #print(' %s' % books_names[ind], end='')\n",
    "    names_list.append(names_list_temp)\n",
    "    #print()\n",
    "    #print()\n",
    "\n",
    "\n",
    "print(\"Books in cluster:\")\n",
    "for i in range(np.unique(ac.labels_).shape[0]):\n",
    "    print(\"Cluster %d:\" % i)\n",
    "    for ind, key in names_list[i]:\n",
    "        print(\"|%s|[%d]  %s\" % (key,ind, real_names.get(key)))"
   ]
  },
  {
   "cell_type": "code",
   "execution_count": null,
   "metadata": {
    "collapsed": true
   },
   "outputs": [],
   "source": []
  },
  {
   "cell_type": "code",
   "execution_count": 149,
   "metadata": {
    "collapsed": false
   },
   "outputs": [
    {
     "name": "stdout",
     "output_type": "stream",
     "text": [
      "n_samples: 24, n_features: 41553\n",
      "\n",
      "Books in cluster:\n",
      "Cluster 0:\n",
      "|gap_m_6B1DkImIoC|[8]  Titus Livus, Roman History, by William Gordon\n",
      "|gap_DqQNAAAAYAAJ|[11]  LIVY , History of Rome, translated by George Baker, Vol III\n",
      "|gap_Bdw_AAAAYAAJ|[17]  The History of Rome By Titus Liviusm, translated by George Baker, Vol I\n",
      "|gap_RqMNAAAAYAAJ|[22]  LIVY , History of Rome, translated by George Baker, Vol V\n",
      "Cluster 1:\n",
      "|gap_WORMAAAAYAAJ|[13]  The Histories of Caius Cornelius Tacitus, by William Seymour Tyler\n",
      "|gap_2X5KAAAAYAAJ|[16]  The Works of Cornelius Tacitus, by Arthur Murphy, Vol V\n",
      "Cluster 2:\n",
      "|gap_aLcWAAAAQAAJ|[5]  The History of the Decline and Fall of The Roman Empire, by Edward Gibbon, Vol I\n",
      "|gap_GIt0HMhqjRgC|[6]  Gibbon's History of the Decline and Fall of The Roman Empire, by Thomas Bowdler, Vol IV\n",
      "|gap_IlUMAQAAMAAJ|[10]  Gibbon's History of the Decline and Fall of the Roman Empire, by Thomas Bowdler, Vol II\n",
      "|gap_XmqHlMECi6kC|[15]  The History of the Decline and Fall of The Roman Empire, by Edward Gibbon, Vol VI\n",
      "|gap_VPENAAAAQAAJ|[18]  The History of the Decline and Fall of The Roman Empire, by Edward Gibbon, Vol V\n",
      "|gap_CSEUAAAAYAAJ|[20]  The History of the Decline and Fall of The Roman Empire, by Edward Gibbon, Vol III\n",
      "Cluster 3:\n",
      "|gap_ogsNAAAAIAAJ|[0]  The Works of Josephus, by William Whiston, Vol IV\n",
      "|gap_y-AvAAAAYAAJ|[2]  The Genuie Works of Flavius Josephus, by William Whiston, Vol III\n",
      "|gap_TgpMAAAAYAAJ|[3]  The Genuie Works of Flavius Josephus, by William Whiston, Vol I\n",
      "|gap_CnnUAAAAMAAJ|[14]  The Whole Genuie Works of Flavius Josephus, by William Whiston, Vol II\n",
      "Cluster 4:\n",
      "|gap_9ksIAAAAQAAJ|[1]  The History of the Peloponnesian War, translated from the Greek of Thucydides, By William Smith, Vol II\n",
      "|gap_fnAMAAAAYAAJ|[7]  The History of the Peloponnesian War by Thucydides, By William Smith, Vol I\n",
      "Cluster 5:\n",
      "|gap_-C0BAAAAQAAJ|[12]  Dictionary of Greek and Roman Geography, Edited by William Smith, Vol II\n",
      "|gap_dIkBAAAAQAAJ|[19]  The History of Rome by Theoder Mommsen, translated by William P. Dickson, Vol III\n",
      "|gap_udEIAAAAQAAJ|[21]  The First and Thirty-Third Books of Pliny's Natural History, by John Bostock\n",
      "|gap_DhULAAAAYAAJ|[23]  The Description of Greece, by Pausanias, Vol III\n",
      "Cluster 6:\n",
      "|gap_pX5KAAAAYAAJ|[4]  The Works of Cornelius Tacitus, by Arthur Murphy, Vol IV\n",
      "|gap_MEoWAAAAYAAJ|[9]  The Historical Annals of Cornelius Tacitus, by Arthur Murphy, Vol I\n"
     ]
    },
    {
     "ename": "ValueError",
     "evalue": "Number of labels is 1. Valid values are 2 to n_samples - 1 (inclusive)",
     "output_type": "error",
     "traceback": [
      "\u001b[0;31m---------------------------------------------------------------------------\u001b[0m",
      "\u001b[0;31mValueError\u001b[0m                                Traceback (most recent call last)",
      "\u001b[0;32m<ipython-input-149-d2fe7086829b>\u001b[0m in \u001b[0;36m<module>\u001b[0;34m()\u001b[0m\n\u001b[1;32m     47\u001b[0m                       \u001b[0;31m#metrics.homogeneity_completeness_v_measure(target_lab, result_lab),\u001b[0m\u001b[0;34m\u001b[0m\u001b[0;34m\u001b[0m\u001b[0m\n\u001b[1;32m     48\u001b[0m                       \u001b[0mmetrics\u001b[0m\u001b[0;34m.\u001b[0m\u001b[0mfowlkes_mallows_score\u001b[0m\u001b[0;34m(\u001b[0m\u001b[0mtarget_lab\u001b[0m\u001b[0;34m,\u001b[0m \u001b[0mresult_lab\u001b[0m\u001b[0;34m)\u001b[0m\u001b[0;34m,\u001b[0m \u001b[0;31m#perfect fit is 1.0\u001b[0m\u001b[0;34m\u001b[0m\u001b[0m\n\u001b[0;32m---> 49\u001b[0;31m                       \u001b[0mmetrics\u001b[0m\u001b[0;34m.\u001b[0m\u001b[0msilhouette_score\u001b[0m\u001b[0;34m(\u001b[0m\u001b[0mX\u001b[0m\u001b[0;34m.\u001b[0m\u001b[0mtodense\u001b[0m\u001b[0;34m(\u001b[0m\u001b[0;34m)\u001b[0m\u001b[0;34m,\u001b[0m \u001b[0mresult_lab\u001b[0m\u001b[0;34m,\u001b[0m \u001b[0mmetric\u001b[0m\u001b[0;34m=\u001b[0m\u001b[0;34m'euclidean'\u001b[0m\u001b[0;34m)\u001b[0m\u001b[0;34m,\u001b[0m \u001b[0;31m#the higher the better\u001b[0m\u001b[0;34m\u001b[0m\u001b[0m\n\u001b[0m\u001b[1;32m     50\u001b[0m                       metrics.calinski_harabaz_score(X.todense(), result_lab)]\n",
      "\u001b[0;32m/usr/local/lib/python2.7/dist-packages/sklearn/metrics/cluster/unsupervised.pyc\u001b[0m in \u001b[0;36msilhouette_score\u001b[0;34m(X, labels, metric, sample_size, random_state, **kwds)\u001b[0m\n\u001b[1;32m     98\u001b[0m         \u001b[0;32melse\u001b[0m\u001b[0;34m:\u001b[0m\u001b[0;34m\u001b[0m\u001b[0m\n\u001b[1;32m     99\u001b[0m             \u001b[0mX\u001b[0m\u001b[0;34m,\u001b[0m \u001b[0mlabels\u001b[0m \u001b[0;34m=\u001b[0m \u001b[0mX\u001b[0m\u001b[0;34m[\u001b[0m\u001b[0mindices\u001b[0m\u001b[0;34m]\u001b[0m\u001b[0;34m,\u001b[0m \u001b[0mlabels\u001b[0m\u001b[0;34m[\u001b[0m\u001b[0mindices\u001b[0m\u001b[0;34m]\u001b[0m\u001b[0;34m\u001b[0m\u001b[0m\n\u001b[0;32m--> 100\u001b[0;31m     \u001b[0;32mreturn\u001b[0m \u001b[0mnp\u001b[0m\u001b[0;34m.\u001b[0m\u001b[0mmean\u001b[0m\u001b[0;34m(\u001b[0m\u001b[0msilhouette_samples\u001b[0m\u001b[0;34m(\u001b[0m\u001b[0mX\u001b[0m\u001b[0;34m,\u001b[0m \u001b[0mlabels\u001b[0m\u001b[0;34m,\u001b[0m \u001b[0mmetric\u001b[0m\u001b[0;34m=\u001b[0m\u001b[0mmetric\u001b[0m\u001b[0;34m,\u001b[0m \u001b[0;34m**\u001b[0m\u001b[0mkwds\u001b[0m\u001b[0;34m)\u001b[0m\u001b[0;34m)\u001b[0m\u001b[0;34m\u001b[0m\u001b[0m\n\u001b[0m\u001b[1;32m    101\u001b[0m \u001b[0;34m\u001b[0m\u001b[0m\n\u001b[1;32m    102\u001b[0m \u001b[0;34m\u001b[0m\u001b[0m\n",
      "\u001b[0;32m/usr/local/lib/python2.7/dist-packages/sklearn/metrics/cluster/unsupervised.pyc\u001b[0m in \u001b[0;36msilhouette_samples\u001b[0;34m(X, labels, metric, **kwds)\u001b[0m\n\u001b[1;32m    164\u001b[0m     \u001b[0mle\u001b[0m \u001b[0;34m=\u001b[0m \u001b[0mLabelEncoder\u001b[0m\u001b[0;34m(\u001b[0m\u001b[0;34m)\u001b[0m\u001b[0;34m\u001b[0m\u001b[0m\n\u001b[1;32m    165\u001b[0m     \u001b[0mlabels\u001b[0m \u001b[0;34m=\u001b[0m \u001b[0mle\u001b[0m\u001b[0;34m.\u001b[0m\u001b[0mfit_transform\u001b[0m\u001b[0;34m(\u001b[0m\u001b[0mlabels\u001b[0m\u001b[0;34m)\u001b[0m\u001b[0;34m\u001b[0m\u001b[0m\n\u001b[0;32m--> 166\u001b[0;31m     \u001b[0mcheck_number_of_labels\u001b[0m\u001b[0;34m(\u001b[0m\u001b[0mlen\u001b[0m\u001b[0;34m(\u001b[0m\u001b[0mle\u001b[0m\u001b[0;34m.\u001b[0m\u001b[0mclasses_\u001b[0m\u001b[0;34m)\u001b[0m\u001b[0;34m,\u001b[0m \u001b[0mX\u001b[0m\u001b[0;34m.\u001b[0m\u001b[0mshape\u001b[0m\u001b[0;34m[\u001b[0m\u001b[0;36m0\u001b[0m\u001b[0;34m]\u001b[0m\u001b[0;34m)\u001b[0m\u001b[0;34m\u001b[0m\u001b[0m\n\u001b[0m\u001b[1;32m    167\u001b[0m \u001b[0;34m\u001b[0m\u001b[0m\n\u001b[1;32m    168\u001b[0m     \u001b[0mdistances\u001b[0m \u001b[0;34m=\u001b[0m \u001b[0mpairwise_distances\u001b[0m\u001b[0;34m(\u001b[0m\u001b[0mX\u001b[0m\u001b[0;34m,\u001b[0m \u001b[0mmetric\u001b[0m\u001b[0;34m=\u001b[0m\u001b[0mmetric\u001b[0m\u001b[0;34m,\u001b[0m \u001b[0;34m**\u001b[0m\u001b[0mkwds\u001b[0m\u001b[0;34m)\u001b[0m\u001b[0;34m\u001b[0m\u001b[0m\n",
      "\u001b[0;32m/usr/local/lib/python2.7/dist-packages/sklearn/metrics/cluster/unsupervised.pyc\u001b[0m in \u001b[0;36mcheck_number_of_labels\u001b[0;34m(n_labels, n_samples)\u001b[0m\n\u001b[1;32m     18\u001b[0m     \u001b[0;32mif\u001b[0m \u001b[0;32mnot\u001b[0m \u001b[0;36m1\u001b[0m \u001b[0;34m<\u001b[0m \u001b[0mn_labels\u001b[0m \u001b[0;34m<\u001b[0m \u001b[0mn_samples\u001b[0m\u001b[0;34m:\u001b[0m\u001b[0;34m\u001b[0m\u001b[0m\n\u001b[1;32m     19\u001b[0m         raise ValueError(\"Number of labels is %d. Valid values are 2 \"\n\u001b[0;32m---> 20\u001b[0;31m                          \"to n_samples - 1 (inclusive)\" % n_labels)\n\u001b[0m\u001b[1;32m     21\u001b[0m \u001b[0;34m\u001b[0m\u001b[0m\n\u001b[1;32m     22\u001b[0m \u001b[0;34m\u001b[0m\u001b[0m\n",
      "\u001b[0;31mValueError\u001b[0m: Number of labels is 1. Valid values are 2 to n_samples - 1 (inclusive)"
     ]
    }
   ],
   "source": [
    "n_clusters=7\n",
    "#vectorizer = CountVectorizer(max_df=0.5,min_df=2, stop_words='english', analyzer = 'word') \n",
    "#vectorizer = HashingVectorizer(stop_words='english', non_negative=False, norm='l2', binary=False, analyzer = 'word')\n",
    "vectorizer = TfidfVectorizer(max_df=0.5, min_df=2, stop_words='english', norm='l2', analyzer = 'word')\n",
    "\n",
    "X = vectorizer.fit_transform(books_texts)\n",
    "print(\"n_samples: %d, n_features: %d\" % X.shape)\n",
    "print()\n",
    "#terms = vectorizer.get_feature_names()\n",
    "\n",
    "ac = Birch(threshold=0.5, branching_factor=50, n_clusters=7)\n",
    "ac.fit(X.todense())\n",
    "\n",
    "#order_centroids = ac.cluster_centers_.argsort()[:, ::-1]\n",
    "names_list = []\n",
    "for i in range(np.unique(ac.labels_).shape[0]):\n",
    "    #print(\"Cluster %d:\" % i, end='')\n",
    "    #for ind in order_centroids[i, :20]:\n",
    "    #    print(' %s' % terms[ind], end='')\n",
    "    indices = [a for a, x in enumerate(ac.labels_ ) if x == i]\n",
    "    #print()\n",
    "    #print (\"Books in cluster %d :\" % len(indices), end='')\n",
    "    names_list_temp = []\n",
    "    for ind in indices:        \n",
    "        names_list_temp.append([ind,books_names[ind]])\n",
    "        #print(' %s' % books_names[ind], end='')\n",
    "    names_list.append(names_list_temp)\n",
    "    #print()\n",
    "    #print()\n",
    "\n",
    "\n",
    "print(\"Books in cluster:\")\n",
    "for i in range(np.unique(ac.labels_).shape[0]):\n",
    "    print(\"Cluster %d:\" % i)\n",
    "    for ind, key in names_list[i]:\n",
    "        print(\"|%s|[%d]  %s\" % (key,ind, real_names.get(key)))\n",
    "\n",
    "target_lab = [6, 2, 6, 6, 0, 5, 5, 2, 1, 0, 5, 1, 4, 0, 6, 5, 0, 1, 5, 4, 5, 3, 1, 2]\n",
    "result_lab = [0, 0, 0, 0, 0, 0, 0, 0, 0, 0, 0, 0, 0, 0, 0, 0, 0, 0, 0, 0, 0, 0, 0, 0]\n",
    "metrics_num = [metrics.adjusted_rand_score(target_lab, result_lab), #perect fit is 1.0\n",
    "                      metrics.normalized_mutual_info_score(target_lab, result_lab),  #perfect fit is 1.0\n",
    "                      metrics.mutual_info_score(target_lab, result_lab), #perfect fit is 1.0\n",
    "                      metrics.adjusted_mutual_info_score(target_lab, result_lab), #perfect fit is 1.0\n",
    "                      metrics.homogeneity_score(target_lab, result_lab), #perfect fit is 1.0\n",
    "                      metrics.completeness_score(target_lab, result_lab), #perfect fit is 1.0\n",
    "                      metrics.v_measure_score(target_lab, result_lab), #perfect fit is 1.0\n",
    "                      #metrics.homogeneity_completeness_v_measure(target_lab, result_lab),\n",
    "                      metrics.fowlkes_mallows_score(target_lab, result_lab), #perfect fit is 1.0\n",
    "                      metrics.silhouette_score(X.todense(), result_lab, metric='euclidean'), #the higher the better\n",
    "                      metrics.calinski_harabaz_score(X.todense(), result_lab)]"
   ]
  },
  {
   "cell_type": "code",
   "execution_count": 132,
   "metadata": {
    "collapsed": false
   },
   "outputs": [
    {
     "name": "stdout",
     "output_type": "stream",
     "text": [
      "n_samples: 24, n_features: 41553\n",
      "\n",
      "Books in cluster:\n",
      "Cluster 0:\n"
     ]
    }
   ],
   "source": [
    "n_clusters=7\n",
    "#vectorizer = CountVectorizer(max_df=0.5,min_df=2, stop_words='english', analyzer = 'word') \n",
    "#vectorizer = HashingVectorizer(stop_words='english', non_negative=False, norm='l2', binary=False, analyzer = 'word')\n",
    "vectorizer = TfidfVectorizer(max_df=0.5, min_df=2, stop_words='english', norm='l2', analyzer = 'word')\n",
    "\n",
    "X = vectorizer.fit_transform(books_texts)\n",
    "print(\"n_samples: %d, n_features: %d\" % X.shape)\n",
    "print()\n",
    "#terms = vectorizer.get_feature_names()\n",
    "\n",
    "ac = DBSCAN(eps=0.5, min_samples=2, metric='euclidean', algorithm='ball_tree', leaf_size=30, p=1)\n",
    "ac.fit(X.todense())\n",
    "\n",
    "#order_centroids = ac.cluster_centers_.argsort()[:, ::-1]\n",
    "names_list = []\n",
    "for i in range(np.unique(ac.labels_).shape[0]):\n",
    "    #print(\"Cluster %d:\" % i, end='')\n",
    "    #for ind in order_centroids[i, :20]:\n",
    "    #    print(' %s' % terms[ind], end='')\n",
    "    indices = [a for a, x in enumerate(ac.labels_ ) if x == i]\n",
    "    #print()\n",
    "    #print (\"Books in cluster %d :\" % len(indices), end='')\n",
    "    names_list_temp = []\n",
    "    for ind in indices:        \n",
    "        names_list_temp.append([ind,books_names[ind]])\n",
    "        #print(' %s' % books_names[ind], end='')\n",
    "    names_list.append(names_list_temp)\n",
    "    #print()\n",
    "    #print()\n",
    "\n",
    "\n",
    "print(\"Books in cluster:\")\n",
    "for i in range(np.unique(ac.labels_).shape[0]):\n",
    "    print(\"Cluster %d:\" % i)\n",
    "    for ind, key in names_list[i]:\n",
    "        print(\"|%s|[%d]  %s\" % (key,ind, real_names.get(key)))"
   ]
  },
  {
   "cell_type": "code",
   "execution_count": 138,
   "metadata": {
    "collapsed": false
   },
   "outputs": [
    {
     "name": "stdout",
     "output_type": "stream",
     "text": [
      "n_samples: 24, n_features: 41553\n",
      "\n",
      "Books in cluster:\n",
      "Cluster 0:\n",
      "|gap_ogsNAAAAIAAJ|[0]  The Works of Josephus, by William Whiston, Vol IV\n",
      "|gap_y-AvAAAAYAAJ|[2]  The Genuie Works of Flavius Josephus, by William Whiston, Vol III\n",
      "|gap_TgpMAAAAYAAJ|[3]  The Genuie Works of Flavius Josephus, by William Whiston, Vol I\n",
      "|gap_CnnUAAAAMAAJ|[14]  The Whole Genuie Works of Flavius Josephus, by William Whiston, Vol II\n",
      "Cluster 1:\n",
      "|gap_-C0BAAAAQAAJ|[12]  Dictionary of Greek and Roman Geography, Edited by William Smith, Vol II\n",
      "|gap_WORMAAAAYAAJ|[13]  The Histories of Caius Cornelius Tacitus, by William Seymour Tyler\n",
      "|gap_2X5KAAAAYAAJ|[16]  The Works of Cornelius Tacitus, by Arthur Murphy, Vol V\n",
      "|gap_dIkBAAAAQAAJ|[19]  The History of Rome by Theoder Mommsen, translated by William P. Dickson, Vol III\n",
      "|gap_udEIAAAAQAAJ|[21]  The First and Thirty-Third Books of Pliny's Natural History, by John Bostock\n",
      "|gap_DhULAAAAYAAJ|[23]  The Description of Greece, by Pausanias, Vol III\n",
      "Cluster 2:\n",
      "|gap_GIt0HMhqjRgC|[6]  Gibbon's History of the Decline and Fall of The Roman Empire, by Thomas Bowdler, Vol IV\n",
      "|gap_VPENAAAAQAAJ|[18]  The History of the Decline and Fall of The Roman Empire, by Edward Gibbon, Vol V\n",
      "Cluster 3:\n",
      "|gap_XmqHlMECi6kC|[15]  The History of the Decline and Fall of The Roman Empire, by Edward Gibbon, Vol VI\n",
      "|gap_CSEUAAAAYAAJ|[20]  The History of the Decline and Fall of The Roman Empire, by Edward Gibbon, Vol III\n",
      "Cluster 4:\n",
      "|gap_pX5KAAAAYAAJ|[4]  The Works of Cornelius Tacitus, by Arthur Murphy, Vol IV\n",
      "|gap_MEoWAAAAYAAJ|[9]  The Historical Annals of Cornelius Tacitus, by Arthur Murphy, Vol I\n",
      "Cluster 5:\n",
      "|gap_aLcWAAAAQAAJ|[5]  The History of the Decline and Fall of The Roman Empire, by Edward Gibbon, Vol I\n",
      "|gap_IlUMAQAAMAAJ|[10]  Gibbon's History of the Decline and Fall of the Roman Empire, by Thomas Bowdler, Vol II\n",
      "Cluster 6:\n",
      "|gap_9ksIAAAAQAAJ|[1]  The History of the Peloponnesian War, translated from the Greek of Thucydides, By William Smith, Vol II\n",
      "|gap_fnAMAAAAYAAJ|[7]  The History of the Peloponnesian War by Thucydides, By William Smith, Vol I\n",
      "Cluster 7:\n",
      "|gap_m_6B1DkImIoC|[8]  Titus Livus, Roman History, by William Gordon\n",
      "|gap_DqQNAAAAYAAJ|[11]  LIVY , History of Rome, translated by George Baker, Vol III\n",
      "|gap_Bdw_AAAAYAAJ|[17]  The History of Rome By Titus Liviusm, translated by George Baker, Vol I\n",
      "|gap_RqMNAAAAYAAJ|[22]  LIVY , History of Rome, translated by George Baker, Vol V\n"
     ]
    }
   ],
   "source": [
    "n_clusters=8\n",
    "#vectorizer = CountVectorizer(max_df=0.5,min_df=2, stop_words='english', analyzer = 'word') \n",
    "#vectorizer = HashingVectorizer(stop_words='english', non_negative=False, norm='l2', binary=False, analyzer = 'word')\n",
    "vectorizer = TfidfVectorizer(max_df=0.5, min_df=2, stop_words='english', norm='l2', analyzer = 'word')\n",
    "\n",
    "X = vectorizer.fit_transform(books_texts)\n",
    "print(\"n_samples: %d, n_features: %d\" % X.shape)\n",
    "print()\n",
    "#terms = vectorizer.get_feature_names()\n",
    "\n",
    "ac = SpectralClustering(n_clusters=n_clusters, eigen_solver=None, random_state=None, n_init=10, gamma=1.0, affinity='rbf', n_neighbors=10, eigen_tol=0.0, assign_labels='kmeans', degree=3, coef0=1, kernel_params=None, n_jobs=1)\n",
    "ac.fit(X.todense())\n",
    "\n",
    "#order_centroids = ac.cluster_centers_.argsort()[:, ::-1]\n",
    "names_list = []\n",
    "for i in range(np.unique(ac.labels_).shape[0]):\n",
    "    #print(\"Cluster %d:\" % i, end='')\n",
    "    #for ind in order_centroids[i, :20]:\n",
    "    #    print(' %s' % terms[ind], end='')\n",
    "    indices = [a for a, x in enumerate(ac.labels_ ) if x == i]\n",
    "    #print()\n",
    "    #print (\"Books in cluster %d :\" % len(indices), end='')\n",
    "    names_list_temp = []\n",
    "    for ind in indices:        \n",
    "        names_list_temp.append([ind,books_names[ind]])\n",
    "        #print(' %s' % books_names[ind], end='')\n",
    "    names_list.append(names_list_temp)\n",
    "    #print()\n",
    "    #print()\n",
    "\n",
    "\n",
    "print(\"Books in cluster:\")\n",
    "for i in range(np.unique(ac.labels_).shape[0]):\n",
    "    print(\"Cluster %d:\" % i)\n",
    "    for ind, key in names_list[i]:\n",
    "        print(\"|%s|[%d]  %s\" % (key,ind, real_names.get(key)))"
   ]
  },
  {
   "cell_type": "code",
   "execution_count": 123,
   "metadata": {
    "collapsed": false
   },
   "outputs": [
    {
     "data": {
      "text/plain": [
       "array([-1, -1, -1, -1, -1, -1, -1, -1, -1, -1, -1, -1, -1, -1, -1, -1, -1,\n",
       "       -1, -1, -1, -1, -1, -1, -1])"
      ]
     },
     "execution_count": 123,
     "metadata": {},
     "output_type": "execute_result"
    }
   ],
   "source": [
    "ac.labels_"
   ]
  },
  {
   "cell_type": "code",
   "execution_count": null,
   "metadata": {
    "collapsed": true
   },
   "outputs": [],
   "source": []
  }
 ],
 "metadata": {
  "kernelspec": {
   "display_name": "Python 2",
   "language": "python",
   "name": "python2"
  },
  "language_info": {
   "codemirror_mode": {
    "name": "ipython",
    "version": 2
   },
   "file_extension": ".py",
   "mimetype": "text/x-python",
   "name": "python",
   "nbconvert_exporter": "python",
   "pygments_lexer": "ipython2",
   "version": "2.7.6"
  }
 },
 "nbformat": 4,
 "nbformat_minor": 0
}
